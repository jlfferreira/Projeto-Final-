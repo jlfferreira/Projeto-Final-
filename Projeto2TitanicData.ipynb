{
 "cells": [
  {
   "cell_type": "markdown",
   "metadata": {},
   "source": [
    "# 2.1.\tImportação bibliotecas"
   ]
  },
  {
   "cell_type": "code",
   "execution_count": 1,
   "metadata": {},
   "outputs": [],
   "source": [
    "import pandas as pd\n",
    "import numpy as np\n",
    "import seaborn as sns\n",
    "import matplotlib.pyplot as plt\n",
    "\n",
    "%matplotlib inline"
   ]
  },
  {
   "cell_type": "markdown",
   "metadata": {},
   "source": [
    "# 2.2.\tCarregando os dados e verificando seu conteúdo"
   ]
  },
  {
   "cell_type": "code",
   "execution_count": 2,
   "metadata": {},
   "outputs": [
    {
     "data": {
      "text/html": [
       "<div>\n",
       "<style scoped>\n",
       "    .dataframe tbody tr th:only-of-type {\n",
       "        vertical-align: middle;\n",
       "    }\n",
       "\n",
       "    .dataframe tbody tr th {\n",
       "        vertical-align: top;\n",
       "    }\n",
       "\n",
       "    .dataframe thead th {\n",
       "        text-align: right;\n",
       "    }\n",
       "</style>\n",
       "<table border=\"1\" class=\"dataframe\">\n",
       "  <thead>\n",
       "    <tr style=\"text-align: right;\">\n",
       "      <th></th>\n",
       "      <th>PassengerId</th>\n",
       "      <th>Survived</th>\n",
       "      <th>Pclass</th>\n",
       "      <th>Name</th>\n",
       "      <th>Sex</th>\n",
       "      <th>Age</th>\n",
       "      <th>SibSp</th>\n",
       "      <th>Parch</th>\n",
       "      <th>Ticket</th>\n",
       "      <th>Fare</th>\n",
       "      <th>Cabin</th>\n",
       "      <th>Embarked</th>\n",
       "    </tr>\n",
       "  </thead>\n",
       "  <tbody>\n",
       "    <tr>\n",
       "      <th>0</th>\n",
       "      <td>1</td>\n",
       "      <td>0</td>\n",
       "      <td>3</td>\n",
       "      <td>Braund, Mr. Owen Harris</td>\n",
       "      <td>male</td>\n",
       "      <td>22.0</td>\n",
       "      <td>1</td>\n",
       "      <td>0</td>\n",
       "      <td>A/5 21171</td>\n",
       "      <td>7.2500</td>\n",
       "      <td>NaN</td>\n",
       "      <td>S</td>\n",
       "    </tr>\n",
       "    <tr>\n",
       "      <th>1</th>\n",
       "      <td>2</td>\n",
       "      <td>1</td>\n",
       "      <td>1</td>\n",
       "      <td>Cumings, Mrs. John Bradley (Florence Briggs Th...</td>\n",
       "      <td>female</td>\n",
       "      <td>38.0</td>\n",
       "      <td>1</td>\n",
       "      <td>0</td>\n",
       "      <td>PC 17599</td>\n",
       "      <td>71.2833</td>\n",
       "      <td>C85</td>\n",
       "      <td>C</td>\n",
       "    </tr>\n",
       "    <tr>\n",
       "      <th>2</th>\n",
       "      <td>3</td>\n",
       "      <td>1</td>\n",
       "      <td>3</td>\n",
       "      <td>Heikkinen, Miss. Laina</td>\n",
       "      <td>female</td>\n",
       "      <td>26.0</td>\n",
       "      <td>0</td>\n",
       "      <td>0</td>\n",
       "      <td>STON/O2. 3101282</td>\n",
       "      <td>7.9250</td>\n",
       "      <td>NaN</td>\n",
       "      <td>S</td>\n",
       "    </tr>\n",
       "    <tr>\n",
       "      <th>3</th>\n",
       "      <td>4</td>\n",
       "      <td>1</td>\n",
       "      <td>1</td>\n",
       "      <td>Futrelle, Mrs. Jacques Heath (Lily May Peel)</td>\n",
       "      <td>female</td>\n",
       "      <td>35.0</td>\n",
       "      <td>1</td>\n",
       "      <td>0</td>\n",
       "      <td>113803</td>\n",
       "      <td>53.1000</td>\n",
       "      <td>C123</td>\n",
       "      <td>S</td>\n",
       "    </tr>\n",
       "    <tr>\n",
       "      <th>4</th>\n",
       "      <td>5</td>\n",
       "      <td>0</td>\n",
       "      <td>3</td>\n",
       "      <td>Allen, Mr. William Henry</td>\n",
       "      <td>male</td>\n",
       "      <td>35.0</td>\n",
       "      <td>0</td>\n",
       "      <td>0</td>\n",
       "      <td>373450</td>\n",
       "      <td>8.0500</td>\n",
       "      <td>NaN</td>\n",
       "      <td>S</td>\n",
       "    </tr>\n",
       "  </tbody>\n",
       "</table>\n",
       "</div>"
      ],
      "text/plain": [
       "   PassengerId  Survived  Pclass  \\\n",
       "0            1         0       3   \n",
       "1            2         1       1   \n",
       "2            3         1       3   \n",
       "3            4         1       1   \n",
       "4            5         0       3   \n",
       "\n",
       "                                                Name     Sex   Age  SibSp  \\\n",
       "0                            Braund, Mr. Owen Harris    male  22.0      1   \n",
       "1  Cumings, Mrs. John Bradley (Florence Briggs Th...  female  38.0      1   \n",
       "2                             Heikkinen, Miss. Laina  female  26.0      0   \n",
       "3       Futrelle, Mrs. Jacques Heath (Lily May Peel)  female  35.0      1   \n",
       "4                           Allen, Mr. William Henry    male  35.0      0   \n",
       "\n",
       "   Parch            Ticket     Fare Cabin Embarked  \n",
       "0      0         A/5 21171   7.2500   NaN        S  \n",
       "1      0          PC 17599  71.2833   C85        C  \n",
       "2      0  STON/O2. 3101282   7.9250   NaN        S  \n",
       "3      0            113803  53.1000  C123        S  \n",
       "4      0            373450   8.0500   NaN        S  "
      ]
     },
     "execution_count": 2,
     "metadata": {},
     "output_type": "execute_result"
    }
   ],
   "source": [
    "df=pd.read_csv(\"D:/Python/Projeto 2 Udacity/titanic-data-6.csv\")\n",
    "df.head()"
   ]
  },
  {
   "cell_type": "code",
   "execution_count": 75,
   "metadata": {},
   "outputs": [
    {
     "data": {
      "text/plain": [
       "PassengerId      int64\n",
       "Survived         int64\n",
       "Pclass           int64\n",
       "Name            object\n",
       "Sex             object\n",
       "Age            float64\n",
       "SibSp            int64\n",
       "Parch            int64\n",
       "Ticket          object\n",
       "Fare           float64\n",
       "Cabin           object\n",
       "Embarked        object\n",
       "dtype: object"
      ]
     },
     "execution_count": 75,
     "metadata": {},
     "output_type": "execute_result"
    }
   ],
   "source": [
    "df.dtypes"
   ]
  },
  {
   "cell_type": "code",
   "execution_count": 76,
   "metadata": {},
   "outputs": [
    {
     "data": {
      "text/plain": [
       "(891, 12)"
      ]
     },
     "execution_count": 76,
     "metadata": {},
     "output_type": "execute_result"
    }
   ],
   "source": [
    "df.shape"
   ]
  },
  {
   "cell_type": "code",
   "execution_count": 58,
   "metadata": {},
   "outputs": [
    {
     "data": {
      "text/html": [
       "<div>\n",
       "<style scoped>\n",
       "    .dataframe tbody tr th:only-of-type {\n",
       "        vertical-align: middle;\n",
       "    }\n",
       "\n",
       "    .dataframe tbody tr th {\n",
       "        vertical-align: top;\n",
       "    }\n",
       "\n",
       "    .dataframe thead th {\n",
       "        text-align: right;\n",
       "    }\n",
       "</style>\n",
       "<table border=\"1\" class=\"dataframe\">\n",
       "  <thead>\n",
       "    <tr style=\"text-align: right;\">\n",
       "      <th></th>\n",
       "      <th>PassengerId</th>\n",
       "      <th>Survived</th>\n",
       "      <th>Pclass</th>\n",
       "      <th>Age</th>\n",
       "      <th>SibSp</th>\n",
       "      <th>Parch</th>\n",
       "      <th>Fare</th>\n",
       "    </tr>\n",
       "  </thead>\n",
       "  <tbody>\n",
       "    <tr>\n",
       "      <th>count</th>\n",
       "      <td>891.000000</td>\n",
       "      <td>891.000000</td>\n",
       "      <td>891.000000</td>\n",
       "      <td>714.000000</td>\n",
       "      <td>891.000000</td>\n",
       "      <td>891.000000</td>\n",
       "      <td>891.000000</td>\n",
       "    </tr>\n",
       "    <tr>\n",
       "      <th>mean</th>\n",
       "      <td>446.000000</td>\n",
       "      <td>0.383838</td>\n",
       "      <td>2.308642</td>\n",
       "      <td>29.699118</td>\n",
       "      <td>0.523008</td>\n",
       "      <td>0.381594</td>\n",
       "      <td>32.204208</td>\n",
       "    </tr>\n",
       "    <tr>\n",
       "      <th>std</th>\n",
       "      <td>257.353842</td>\n",
       "      <td>0.486592</td>\n",
       "      <td>0.836071</td>\n",
       "      <td>14.526497</td>\n",
       "      <td>1.102743</td>\n",
       "      <td>0.806057</td>\n",
       "      <td>49.693429</td>\n",
       "    </tr>\n",
       "    <tr>\n",
       "      <th>min</th>\n",
       "      <td>1.000000</td>\n",
       "      <td>0.000000</td>\n",
       "      <td>1.000000</td>\n",
       "      <td>0.420000</td>\n",
       "      <td>0.000000</td>\n",
       "      <td>0.000000</td>\n",
       "      <td>0.000000</td>\n",
       "    </tr>\n",
       "    <tr>\n",
       "      <th>25%</th>\n",
       "      <td>223.500000</td>\n",
       "      <td>0.000000</td>\n",
       "      <td>2.000000</td>\n",
       "      <td>20.125000</td>\n",
       "      <td>0.000000</td>\n",
       "      <td>0.000000</td>\n",
       "      <td>7.910400</td>\n",
       "    </tr>\n",
       "    <tr>\n",
       "      <th>50%</th>\n",
       "      <td>446.000000</td>\n",
       "      <td>0.000000</td>\n",
       "      <td>3.000000</td>\n",
       "      <td>28.000000</td>\n",
       "      <td>0.000000</td>\n",
       "      <td>0.000000</td>\n",
       "      <td>14.454200</td>\n",
       "    </tr>\n",
       "    <tr>\n",
       "      <th>75%</th>\n",
       "      <td>668.500000</td>\n",
       "      <td>1.000000</td>\n",
       "      <td>3.000000</td>\n",
       "      <td>38.000000</td>\n",
       "      <td>1.000000</td>\n",
       "      <td>0.000000</td>\n",
       "      <td>31.000000</td>\n",
       "    </tr>\n",
       "    <tr>\n",
       "      <th>max</th>\n",
       "      <td>891.000000</td>\n",
       "      <td>1.000000</td>\n",
       "      <td>3.000000</td>\n",
       "      <td>80.000000</td>\n",
       "      <td>8.000000</td>\n",
       "      <td>6.000000</td>\n",
       "      <td>512.329200</td>\n",
       "    </tr>\n",
       "  </tbody>\n",
       "</table>\n",
       "</div>"
      ],
      "text/plain": [
       "       PassengerId    Survived      Pclass         Age       SibSp  \\\n",
       "count   891.000000  891.000000  891.000000  714.000000  891.000000   \n",
       "mean    446.000000    0.383838    2.308642   29.699118    0.523008   \n",
       "std     257.353842    0.486592    0.836071   14.526497    1.102743   \n",
       "min       1.000000    0.000000    1.000000    0.420000    0.000000   \n",
       "25%     223.500000    0.000000    2.000000   20.125000    0.000000   \n",
       "50%     446.000000    0.000000    3.000000   28.000000    0.000000   \n",
       "75%     668.500000    1.000000    3.000000   38.000000    1.000000   \n",
       "max     891.000000    1.000000    3.000000   80.000000    8.000000   \n",
       "\n",
       "            Parch        Fare  \n",
       "count  891.000000  891.000000  \n",
       "mean     0.381594   32.204208  \n",
       "std      0.806057   49.693429  \n",
       "min      0.000000    0.000000  \n",
       "25%      0.000000    7.910400  \n",
       "50%      0.000000   14.454200  \n",
       "75%      0.000000   31.000000  \n",
       "max      6.000000  512.329200  "
      ]
     },
     "execution_count": 58,
     "metadata": {},
     "output_type": "execute_result"
    }
   ],
   "source": [
    "df.describe()"
   ]
  },
  {
   "cell_type": "code",
   "execution_count": 7,
   "metadata": {},
   "outputs": [
    {
     "data": {
      "text/plain": [
       "0.42"
      ]
     },
     "execution_count": 7,
     "metadata": {},
     "output_type": "execute_result"
    }
   ],
   "source": [
    "df[\"Age\"].min()\n",
    "\n"
   ]
  },
  {
   "cell_type": "code",
   "execution_count": 8,
   "metadata": {},
   "outputs": [
    {
     "data": {
      "text/plain": [
       "80.0"
      ]
     },
     "execution_count": 8,
     "metadata": {},
     "output_type": "execute_result"
    }
   ],
   "source": [
    "df[\"Age\"].max()"
   ]
  },
  {
   "cell_type": "code",
   "execution_count": 11,
   "metadata": {},
   "outputs": [
    {
     "data": {
      "text/plain": [
       "Sex\n",
       "female    0.75\n",
       "male      0.42\n",
       "Name: Age, dtype: float64"
      ]
     },
     "execution_count": 11,
     "metadata": {},
     "output_type": "execute_result"
    }
   ],
   "source": [
    "df.groupby(by=\"Sex\")[\"Age\"].min()"
   ]
  },
  {
   "cell_type": "code",
   "execution_count": 12,
   "metadata": {},
   "outputs": [
    {
     "data": {
      "text/html": [
       "<div>\n",
       "<style scoped>\n",
       "    .dataframe tbody tr th:only-of-type {\n",
       "        vertical-align: middle;\n",
       "    }\n",
       "\n",
       "    .dataframe tbody tr th {\n",
       "        vertical-align: top;\n",
       "    }\n",
       "\n",
       "    .dataframe thead th {\n",
       "        text-align: right;\n",
       "    }\n",
       "</style>\n",
       "<table border=\"1\" class=\"dataframe\">\n",
       "  <thead>\n",
       "    <tr style=\"text-align: right;\">\n",
       "      <th></th>\n",
       "      <th>count</th>\n",
       "      <th>mean</th>\n",
       "      <th>std</th>\n",
       "      <th>min</th>\n",
       "      <th>25%</th>\n",
       "      <th>50%</th>\n",
       "      <th>75%</th>\n",
       "      <th>max</th>\n",
       "    </tr>\n",
       "    <tr>\n",
       "      <th>Sex</th>\n",
       "      <th></th>\n",
       "      <th></th>\n",
       "      <th></th>\n",
       "      <th></th>\n",
       "      <th></th>\n",
       "      <th></th>\n",
       "      <th></th>\n",
       "      <th></th>\n",
       "    </tr>\n",
       "  </thead>\n",
       "  <tbody>\n",
       "    <tr>\n",
       "      <th>female</th>\n",
       "      <td>261.0</td>\n",
       "      <td>27.915709</td>\n",
       "      <td>14.110146</td>\n",
       "      <td>0.75</td>\n",
       "      <td>18.0</td>\n",
       "      <td>27.0</td>\n",
       "      <td>37.0</td>\n",
       "      <td>63.0</td>\n",
       "    </tr>\n",
       "    <tr>\n",
       "      <th>male</th>\n",
       "      <td>453.0</td>\n",
       "      <td>30.726645</td>\n",
       "      <td>14.678201</td>\n",
       "      <td>0.42</td>\n",
       "      <td>21.0</td>\n",
       "      <td>29.0</td>\n",
       "      <td>39.0</td>\n",
       "      <td>80.0</td>\n",
       "    </tr>\n",
       "  </tbody>\n",
       "</table>\n",
       "</div>"
      ],
      "text/plain": [
       "        count       mean        std   min   25%   50%   75%   max\n",
       "Sex                                                              \n",
       "female  261.0  27.915709  14.110146  0.75  18.0  27.0  37.0  63.0\n",
       "male    453.0  30.726645  14.678201  0.42  21.0  29.0  39.0  80.0"
      ]
     },
     "execution_count": 12,
     "metadata": {},
     "output_type": "execute_result"
    }
   ],
   "source": [
    "df.groupby(by=\"Sex\")[\"Age\"].describe()"
   ]
  },
  {
   "cell_type": "markdown",
   "metadata": {},
   "source": [
    "# 2.4.\tQualidade de dados\n"
   ]
  },
  {
   "cell_type": "code",
   "execution_count": 77,
   "metadata": {},
   "outputs": [
    {
     "data": {
      "text/plain": [
       "PassengerId      0\n",
       "Survived         0\n",
       "Pclass           0\n",
       "Name             0\n",
       "Sex              0\n",
       "Age            177\n",
       "SibSp            0\n",
       "Parch            0\n",
       "Ticket           0\n",
       "Fare             0\n",
       "Cabin          687\n",
       "Embarked         2\n",
       "dtype: int64"
      ]
     },
     "execution_count": 77,
     "metadata": {},
     "output_type": "execute_result"
    }
   ],
   "source": [
    "df.isnull().sum()"
   ]
  },
  {
   "cell_type": "code",
   "execution_count": 78,
   "metadata": {},
   "outputs": [
    {
     "data": {
      "text/plain": [
       "0"
      ]
     },
     "execution_count": 78,
     "metadata": {},
     "output_type": "execute_result"
    }
   ],
   "source": [
    "df.duplicated().sum()"
   ]
  },
  {
   "cell_type": "markdown",
   "metadata": {},
   "source": [
    "# 2.5.\tLimpeza dos dados"
   ]
  },
  {
   "cell_type": "code",
   "execution_count": 3,
   "metadata": {},
   "outputs": [
    {
     "data": {
      "text/plain": [
       "PassengerId    0\n",
       "Survived       0\n",
       "Pclass         0\n",
       "Name           0\n",
       "Sex            0\n",
       "Age            0\n",
       "SibSp          0\n",
       "Parch          0\n",
       "Ticket         0\n",
       "Fare           0\n",
       "Embarked       0\n",
       "dtype: int64"
      ]
     },
     "execution_count": 3,
     "metadata": {},
     "output_type": "execute_result"
    }
   ],
   "source": [
    "df[\"Age\"]=df[\"Age\"].fillna(df[\"Age\"].mean())\n",
    "df.drop(\"Cabin\",axis=1,inplace=True)\n",
    "df.Embarked.fillna(df[\"Embarked\"].mode()[0],inplace=True)\n",
    "df.isnull().sum()"
   ]
  },
  {
   "cell_type": "markdown",
   "metadata": {},
   "source": [
    "# 2.6.\tCriando colunas"
   ]
  },
  {
   "cell_type": "code",
   "execution_count": 4,
   "metadata": {},
   "outputs": [
    {
     "data": {
      "text/html": [
       "<div>\n",
       "<style scoped>\n",
       "    .dataframe tbody tr th:only-of-type {\n",
       "        vertical-align: middle;\n",
       "    }\n",
       "\n",
       "    .dataframe tbody tr th {\n",
       "        vertical-align: top;\n",
       "    }\n",
       "\n",
       "    .dataframe thead th {\n",
       "        text-align: right;\n",
       "    }\n",
       "</style>\n",
       "<table border=\"1\" class=\"dataframe\">\n",
       "  <thead>\n",
       "    <tr style=\"text-align: right;\">\n",
       "      <th></th>\n",
       "      <th>PassengerId</th>\n",
       "      <th>Survived</th>\n",
       "      <th>Pclass</th>\n",
       "      <th>Name</th>\n",
       "      <th>Sex</th>\n",
       "      <th>Age</th>\n",
       "      <th>SibSp</th>\n",
       "      <th>Parch</th>\n",
       "      <th>Ticket</th>\n",
       "      <th>Fare</th>\n",
       "      <th>Embarked</th>\n",
       "      <th>QtdeFamilia</th>\n",
       "      <th>FaixaEtaria</th>\n",
       "    </tr>\n",
       "  </thead>\n",
       "  <tbody>\n",
       "    <tr>\n",
       "      <th>0</th>\n",
       "      <td>1</td>\n",
       "      <td>0</td>\n",
       "      <td>3</td>\n",
       "      <td>Braund, Mr. Owen Harris</td>\n",
       "      <td>male</td>\n",
       "      <td>22</td>\n",
       "      <td>1</td>\n",
       "      <td>0</td>\n",
       "      <td>A/5 21171</td>\n",
       "      <td>7.2500</td>\n",
       "      <td>S</td>\n",
       "      <td>2</td>\n",
       "      <td>(15, 30]</td>\n",
       "    </tr>\n",
       "    <tr>\n",
       "      <th>1</th>\n",
       "      <td>2</td>\n",
       "      <td>1</td>\n",
       "      <td>1</td>\n",
       "      <td>Cumings, Mrs. John Bradley (Florence Briggs Th...</td>\n",
       "      <td>female</td>\n",
       "      <td>38</td>\n",
       "      <td>1</td>\n",
       "      <td>0</td>\n",
       "      <td>PC 17599</td>\n",
       "      <td>71.2833</td>\n",
       "      <td>C</td>\n",
       "      <td>2</td>\n",
       "      <td>(30, 45]</td>\n",
       "    </tr>\n",
       "    <tr>\n",
       "      <th>2</th>\n",
       "      <td>3</td>\n",
       "      <td>1</td>\n",
       "      <td>3</td>\n",
       "      <td>Heikkinen, Miss. Laina</td>\n",
       "      <td>female</td>\n",
       "      <td>26</td>\n",
       "      <td>0</td>\n",
       "      <td>0</td>\n",
       "      <td>STON/O2. 3101282</td>\n",
       "      <td>7.9250</td>\n",
       "      <td>S</td>\n",
       "      <td>1</td>\n",
       "      <td>(15, 30]</td>\n",
       "    </tr>\n",
       "    <tr>\n",
       "      <th>3</th>\n",
       "      <td>4</td>\n",
       "      <td>1</td>\n",
       "      <td>1</td>\n",
       "      <td>Futrelle, Mrs. Jacques Heath (Lily May Peel)</td>\n",
       "      <td>female</td>\n",
       "      <td>35</td>\n",
       "      <td>1</td>\n",
       "      <td>0</td>\n",
       "      <td>113803</td>\n",
       "      <td>53.1000</td>\n",
       "      <td>S</td>\n",
       "      <td>2</td>\n",
       "      <td>(30, 45]</td>\n",
       "    </tr>\n",
       "    <tr>\n",
       "      <th>4</th>\n",
       "      <td>5</td>\n",
       "      <td>0</td>\n",
       "      <td>3</td>\n",
       "      <td>Allen, Mr. William Henry</td>\n",
       "      <td>male</td>\n",
       "      <td>35</td>\n",
       "      <td>0</td>\n",
       "      <td>0</td>\n",
       "      <td>373450</td>\n",
       "      <td>8.0500</td>\n",
       "      <td>S</td>\n",
       "      <td>1</td>\n",
       "      <td>(30, 45]</td>\n",
       "    </tr>\n",
       "  </tbody>\n",
       "</table>\n",
       "</div>"
      ],
      "text/plain": [
       "   PassengerId  Survived  Pclass  \\\n",
       "0            1         0       3   \n",
       "1            2         1       1   \n",
       "2            3         1       3   \n",
       "3            4         1       1   \n",
       "4            5         0       3   \n",
       "\n",
       "                                                Name     Sex  Age  SibSp  \\\n",
       "0                            Braund, Mr. Owen Harris    male   22      1   \n",
       "1  Cumings, Mrs. John Bradley (Florence Briggs Th...  female   38      1   \n",
       "2                             Heikkinen, Miss. Laina  female   26      0   \n",
       "3       Futrelle, Mrs. Jacques Heath (Lily May Peel)  female   35      1   \n",
       "4                           Allen, Mr. William Henry    male   35      0   \n",
       "\n",
       "   Parch            Ticket     Fare Embarked  QtdeFamilia FaixaEtaria  \n",
       "0      0         A/5 21171   7.2500        S            2    (15, 30]  \n",
       "1      0          PC 17599  71.2833        C            2    (30, 45]  \n",
       "2      0  STON/O2. 3101282   7.9250        S            1    (15, 30]  \n",
       "3      0            113803  53.1000        S            2    (30, 45]  \n",
       "4      0            373450   8.0500        S            1    (30, 45]  "
      ]
     },
     "execution_count": 4,
     "metadata": {},
     "output_type": "execute_result"
    }
   ],
   "source": [
    "df[\"QtdeFamilia\"]=df.SibSp+df.Parch+1\n",
    "df.Age=df.Age.astype(int)\n",
    "df[\"FaixaEtaria\"] = pd.cut(df.Age,range(0,90,15))\n",
    "df.head()"
   ]
  },
  {
   "cell_type": "markdown",
   "metadata": {},
   "source": [
    "# 2.5.\tVerificando correlações "
   ]
  },
  {
   "cell_type": "code",
   "execution_count": 87,
   "metadata": {},
   "outputs": [
    {
     "data": {
      "text/html": [
       "<div>\n",
       "<style scoped>\n",
       "    .dataframe tbody tr th:only-of-type {\n",
       "        vertical-align: middle;\n",
       "    }\n",
       "\n",
       "    .dataframe tbody tr th {\n",
       "        vertical-align: top;\n",
       "    }\n",
       "\n",
       "    .dataframe thead th {\n",
       "        text-align: right;\n",
       "    }\n",
       "</style>\n",
       "<table border=\"1\" class=\"dataframe\">\n",
       "  <thead>\n",
       "    <tr style=\"text-align: right;\">\n",
       "      <th></th>\n",
       "      <th>PassengerId</th>\n",
       "      <th>Survived</th>\n",
       "      <th>Pclass</th>\n",
       "      <th>Age</th>\n",
       "      <th>SibSp</th>\n",
       "      <th>Parch</th>\n",
       "      <th>Fare</th>\n",
       "      <th>QtdeFamilia</th>\n",
       "    </tr>\n",
       "  </thead>\n",
       "  <tbody>\n",
       "    <tr>\n",
       "      <th>PassengerId</th>\n",
       "      <td>1.000000</td>\n",
       "      <td>-0.005007</td>\n",
       "      <td>-0.035144</td>\n",
       "      <td>0.033741</td>\n",
       "      <td>-0.057527</td>\n",
       "      <td>-0.001652</td>\n",
       "      <td>0.012658</td>\n",
       "      <td>-0.040143</td>\n",
       "    </tr>\n",
       "    <tr>\n",
       "      <th>Survived</th>\n",
       "      <td>-0.005007</td>\n",
       "      <td>1.000000</td>\n",
       "      <td>-0.338481</td>\n",
       "      <td>-0.067809</td>\n",
       "      <td>-0.035322</td>\n",
       "      <td>0.081629</td>\n",
       "      <td>0.257307</td>\n",
       "      <td>0.016639</td>\n",
       "    </tr>\n",
       "    <tr>\n",
       "      <th>Pclass</th>\n",
       "      <td>-0.035144</td>\n",
       "      <td>-0.338481</td>\n",
       "      <td>1.000000</td>\n",
       "      <td>-0.335071</td>\n",
       "      <td>0.083081</td>\n",
       "      <td>0.018443</td>\n",
       "      <td>-0.549500</td>\n",
       "      <td>0.065997</td>\n",
       "    </tr>\n",
       "    <tr>\n",
       "      <th>Age</th>\n",
       "      <td>0.033741</td>\n",
       "      <td>-0.067809</td>\n",
       "      <td>-0.335071</td>\n",
       "      <td>1.000000</td>\n",
       "      <td>-0.232743</td>\n",
       "      <td>-0.176744</td>\n",
       "      <td>0.093856</td>\n",
       "      <td>-0.247370</td>\n",
       "    </tr>\n",
       "    <tr>\n",
       "      <th>SibSp</th>\n",
       "      <td>-0.057527</td>\n",
       "      <td>-0.035322</td>\n",
       "      <td>0.083081</td>\n",
       "      <td>-0.232743</td>\n",
       "      <td>1.000000</td>\n",
       "      <td>0.414838</td>\n",
       "      <td>0.159651</td>\n",
       "      <td>0.890712</td>\n",
       "    </tr>\n",
       "    <tr>\n",
       "      <th>Parch</th>\n",
       "      <td>-0.001652</td>\n",
       "      <td>0.081629</td>\n",
       "      <td>0.018443</td>\n",
       "      <td>-0.176744</td>\n",
       "      <td>0.414838</td>\n",
       "      <td>1.000000</td>\n",
       "      <td>0.216225</td>\n",
       "      <td>0.783111</td>\n",
       "    </tr>\n",
       "    <tr>\n",
       "      <th>Fare</th>\n",
       "      <td>0.012658</td>\n",
       "      <td>0.257307</td>\n",
       "      <td>-0.549500</td>\n",
       "      <td>0.093856</td>\n",
       "      <td>0.159651</td>\n",
       "      <td>0.216225</td>\n",
       "      <td>1.000000</td>\n",
       "      <td>0.217138</td>\n",
       "    </tr>\n",
       "    <tr>\n",
       "      <th>QtdeFamilia</th>\n",
       "      <td>-0.040143</td>\n",
       "      <td>0.016639</td>\n",
       "      <td>0.065997</td>\n",
       "      <td>-0.247370</td>\n",
       "      <td>0.890712</td>\n",
       "      <td>0.783111</td>\n",
       "      <td>0.217138</td>\n",
       "      <td>1.000000</td>\n",
       "    </tr>\n",
       "  </tbody>\n",
       "</table>\n",
       "</div>"
      ],
      "text/plain": [
       "             PassengerId  Survived    Pclass       Age     SibSp     Parch  \\\n",
       "PassengerId     1.000000 -0.005007 -0.035144  0.033741 -0.057527 -0.001652   \n",
       "Survived       -0.005007  1.000000 -0.338481 -0.067809 -0.035322  0.081629   \n",
       "Pclass         -0.035144 -0.338481  1.000000 -0.335071  0.083081  0.018443   \n",
       "Age             0.033741 -0.067809 -0.335071  1.000000 -0.232743 -0.176744   \n",
       "SibSp          -0.057527 -0.035322  0.083081 -0.232743  1.000000  0.414838   \n",
       "Parch          -0.001652  0.081629  0.018443 -0.176744  0.414838  1.000000   \n",
       "Fare            0.012658  0.257307 -0.549500  0.093856  0.159651  0.216225   \n",
       "QtdeFamilia    -0.040143  0.016639  0.065997 -0.247370  0.890712  0.783111   \n",
       "\n",
       "                 Fare  QtdeFamilia  \n",
       "PassengerId  0.012658    -0.040143  \n",
       "Survived     0.257307     0.016639  \n",
       "Pclass      -0.549500     0.065997  \n",
       "Age          0.093856    -0.247370  \n",
       "SibSp        0.159651     0.890712  \n",
       "Parch        0.216225     0.783111  \n",
       "Fare         1.000000     0.217138  \n",
       "QtdeFamilia  0.217138     1.000000  "
      ]
     },
     "execution_count": 87,
     "metadata": {},
     "output_type": "execute_result"
    }
   ],
   "source": [
    "df.corr()"
   ]
  },
  {
   "cell_type": "code",
   "execution_count": 88,
   "metadata": {},
   "outputs": [
    {
     "data": {
      "text/html": [
       "<style  type=\"text/css\" >\n",
       "    #T_51da284a_1210_11e9_ab6d_e89eb4672020row0_col0 {\n",
       "            background-color:  #023858;\n",
       "        }    #T_51da284a_1210_11e9_ab6d_e89eb4672020row0_col1 {\n",
       "            background-color:  #d1d2e6;\n",
       "        }    #T_51da284a_1210_11e9_ab6d_e89eb4672020row0_col2 {\n",
       "            background-color:  #b5c4df;\n",
       "        }    #T_51da284a_1210_11e9_ab6d_e89eb4672020row0_col3 {\n",
       "            background-color:  #c8cde4;\n",
       "        }    #T_51da284a_1210_11e9_ab6d_e89eb4672020row0_col4 {\n",
       "            background-color:  #e8e4f0;\n",
       "        }    #T_51da284a_1210_11e9_ab6d_e89eb4672020row0_col5 {\n",
       "            background-color:  #e7e3f0;\n",
       "        }    #T_51da284a_1210_11e9_ab6d_e89eb4672020row0_col6 {\n",
       "            background-color:  #abbfdc;\n",
       "        }    #T_51da284a_1210_11e9_ab6d_e89eb4672020row0_col7 {\n",
       "            background-color:  #e3e0ee;\n",
       "        }    #T_51da284a_1210_11e9_ab6d_e89eb4672020row1_col0 {\n",
       "            background-color:  #f8f1f8;\n",
       "        }    #T_51da284a_1210_11e9_ab6d_e89eb4672020row1_col1 {\n",
       "            background-color:  #023858;\n",
       "        }    #T_51da284a_1210_11e9_ab6d_e89eb4672020row1_col2 {\n",
       "            background-color:  #eae6f1;\n",
       "        }    #T_51da284a_1210_11e9_ab6d_e89eb4672020row1_col3 {\n",
       "            background-color:  #dbdaeb;\n",
       "        }    #T_51da284a_1210_11e9_ab6d_e89eb4672020row1_col4 {\n",
       "            background-color:  #e4e1ef;\n",
       "        }    #T_51da284a_1210_11e9_ab6d_e89eb4672020row1_col5 {\n",
       "            background-color:  #d7d6e9;\n",
       "        }    #T_51da284a_1210_11e9_ab6d_e89eb4672020row1_col6 {\n",
       "            background-color:  #69a5cc;\n",
       "        }    #T_51da284a_1210_11e9_ab6d_e89eb4672020row1_col7 {\n",
       "            background-color:  #d9d8ea;\n",
       "        }    #T_51da284a_1210_11e9_ab6d_e89eb4672020row2_col0 {\n",
       "            background-color:  #fcf4fa;\n",
       "        }    #T_51da284a_1210_11e9_ab6d_e89eb4672020row2_col1 {\n",
       "            background-color:  #fff7fb;\n",
       "        }    #T_51da284a_1210_11e9_ab6d_e89eb4672020row2_col2 {\n",
       "            background-color:  #023858;\n",
       "        }    #T_51da284a_1210_11e9_ab6d_e89eb4672020row2_col3 {\n",
       "            background-color:  #fff7fb;\n",
       "        }    #T_51da284a_1210_11e9_ab6d_e89eb4672020row2_col4 {\n",
       "            background-color:  #ced0e6;\n",
       "        }    #T_51da284a_1210_11e9_ab6d_e89eb4672020row2_col5 {\n",
       "            background-color:  #e3e0ee;\n",
       "        }    #T_51da284a_1210_11e9_ab6d_e89eb4672020row2_col6 {\n",
       "            background-color:  #fff7fb;\n",
       "        }    #T_51da284a_1210_11e9_ab6d_e89eb4672020row2_col7 {\n",
       "            background-color:  #d0d1e6;\n",
       "        }    #T_51da284a_1210_11e9_ab6d_e89eb4672020row3_col0 {\n",
       "            background-color:  #f2ecf5;\n",
       "        }    #T_51da284a_1210_11e9_ab6d_e89eb4672020row3_col1 {\n",
       "            background-color:  #dbdaeb;\n",
       "        }    #T_51da284a_1210_11e9_ab6d_e89eb4672020row3_col2 {\n",
       "            background-color:  #e9e5f1;\n",
       "        }    #T_51da284a_1210_11e9_ab6d_e89eb4672020row3_col3 {\n",
       "            background-color:  #023858;\n",
       "        }    #T_51da284a_1210_11e9_ab6d_e89eb4672020row3_col4 {\n",
       "            background-color:  #fff7fb;\n",
       "        }    #T_51da284a_1210_11e9_ab6d_e89eb4672020row3_col5 {\n",
       "            background-color:  #fff7fb;\n",
       "        }    #T_51da284a_1210_11e9_ab6d_e89eb4672020row3_col6 {\n",
       "            background-color:  #96b6d7;\n",
       "        }    #T_51da284a_1210_11e9_ab6d_e89eb4672020row3_col7 {\n",
       "            background-color:  #fff7fb;\n",
       "        }    #T_51da284a_1210_11e9_ab6d_e89eb4672020row4_col0 {\n",
       "            background-color:  #fff7fb;\n",
       "        }    #T_51da284a_1210_11e9_ab6d_e89eb4672020row4_col1 {\n",
       "            background-color:  #d6d6e9;\n",
       "        }    #T_51da284a_1210_11e9_ab6d_e89eb4672020row4_col2 {\n",
       "            background-color:  #99b8d8;\n",
       "        }    #T_51da284a_1210_11e9_ab6d_e89eb4672020row4_col3 {\n",
       "            background-color:  #f4edf6;\n",
       "        }    #T_51da284a_1210_11e9_ab6d_e89eb4672020row4_col4 {\n",
       "            background-color:  #023858;\n",
       "        }    #T_51da284a_1210_11e9_ab6d_e89eb4672020row4_col5 {\n",
       "            background-color:  #73a9cf;\n",
       "        }    #T_51da284a_1210_11e9_ab6d_e89eb4672020row4_col6 {\n",
       "            background-color:  #84b0d3;\n",
       "        }    #T_51da284a_1210_11e9_ab6d_e89eb4672020row4_col7 {\n",
       "            background-color:  #034f7d;\n",
       "        }    #T_51da284a_1210_11e9_ab6d_e89eb4672020row5_col0 {\n",
       "            background-color:  #f7f0f7;\n",
       "        }    #T_51da284a_1210_11e9_ab6d_e89eb4672020row5_col1 {\n",
       "            background-color:  #bbc7e0;\n",
       "        }    #T_51da284a_1210_11e9_ab6d_e89eb4672020row5_col2 {\n",
       "            background-color:  #a9bfdc;\n",
       "        }    #T_51da284a_1210_11e9_ab6d_e89eb4672020row5_col3 {\n",
       "            background-color:  #ede8f3;\n",
       "        }    #T_51da284a_1210_11e9_ab6d_e89eb4672020row5_col4 {\n",
       "            background-color:  #67a4cc;\n",
       "        }    #T_51da284a_1210_11e9_ab6d_e89eb4672020row5_col5 {\n",
       "            background-color:  #023858;\n",
       "        }    #T_51da284a_1210_11e9_ab6d_e89eb4672020row5_col6 {\n",
       "            background-color:  #76aad0;\n",
       "        }    #T_51da284a_1210_11e9_ab6d_e89eb4672020row5_col7 {\n",
       "            background-color:  #04629a;\n",
       "        }    #T_51da284a_1210_11e9_ab6d_e89eb4672020row6_col0 {\n",
       "            background-color:  #f5eef6;\n",
       "        }    #T_51da284a_1210_11e9_ab6d_e89eb4672020row6_col1 {\n",
       "            background-color:  #8bb2d4;\n",
       "        }    #T_51da284a_1210_11e9_ab6d_e89eb4672020row6_col2 {\n",
       "            background-color:  #fff7fb;\n",
       "        }    #T_51da284a_1210_11e9_ab6d_e89eb4672020row6_col3 {\n",
       "            background-color:  #b8c6e0;\n",
       "        }    #T_51da284a_1210_11e9_ab6d_e89eb4672020row6_col4 {\n",
       "            background-color:  #b9c6e0;\n",
       "        }    #T_51da284a_1210_11e9_ab6d_e89eb4672020row6_col5 {\n",
       "            background-color:  #b4c4df;\n",
       "        }    #T_51da284a_1210_11e9_ab6d_e89eb4672020row6_col6 {\n",
       "            background-color:  #023858;\n",
       "        }    #T_51da284a_1210_11e9_ab6d_e89eb4672020row6_col7 {\n",
       "            background-color:  #a7bddb;\n",
       "        }    #T_51da284a_1210_11e9_ab6d_e89eb4672020row7_col0 {\n",
       "            background-color:  #fdf5fa;\n",
       "        }    #T_51da284a_1210_11e9_ab6d_e89eb4672020row7_col1 {\n",
       "            background-color:  #cccfe5;\n",
       "        }    #T_51da284a_1210_11e9_ab6d_e89eb4672020row7_col2 {\n",
       "            background-color:  #9ebad9;\n",
       "        }    #T_51da284a_1210_11e9_ab6d_e89eb4672020row7_col3 {\n",
       "            background-color:  #f5eff6;\n",
       "        }    #T_51da284a_1210_11e9_ab6d_e89eb4672020row7_col4 {\n",
       "            background-color:  #034f7d;\n",
       "        }    #T_51da284a_1210_11e9_ab6d_e89eb4672020row7_col5 {\n",
       "            background-color:  #04649e;\n",
       "        }    #T_51da284a_1210_11e9_ab6d_e89eb4672020row7_col6 {\n",
       "            background-color:  #76aad0;\n",
       "        }    #T_51da284a_1210_11e9_ab6d_e89eb4672020row7_col7 {\n",
       "            background-color:  #023858;\n",
       "        }</style>  \n",
       "<table id=\"T_51da284a_1210_11e9_ab6d_e89eb4672020\" > \n",
       "<thead>    <tr> \n",
       "        <th class=\"blank level0\" ></th> \n",
       "        <th class=\"col_heading level0 col0\" >PassengerId</th> \n",
       "        <th class=\"col_heading level0 col1\" >Survived</th> \n",
       "        <th class=\"col_heading level0 col2\" >Pclass</th> \n",
       "        <th class=\"col_heading level0 col3\" >Age</th> \n",
       "        <th class=\"col_heading level0 col4\" >SibSp</th> \n",
       "        <th class=\"col_heading level0 col5\" >Parch</th> \n",
       "        <th class=\"col_heading level0 col6\" >Fare</th> \n",
       "        <th class=\"col_heading level0 col7\" >QtdeFamilia</th> \n",
       "    </tr></thead> \n",
       "<tbody>    <tr> \n",
       "        <th id=\"T_51da284a_1210_11e9_ab6d_e89eb4672020level0_row0\" class=\"row_heading level0 row0\" >PassengerId</th> \n",
       "        <td id=\"T_51da284a_1210_11e9_ab6d_e89eb4672020row0_col0\" class=\"data row0 col0\" >1</td> \n",
       "        <td id=\"T_51da284a_1210_11e9_ab6d_e89eb4672020row0_col1\" class=\"data row0 col1\" >-0.005</td> \n",
       "        <td id=\"T_51da284a_1210_11e9_ab6d_e89eb4672020row0_col2\" class=\"data row0 col2\" >-0.035</td> \n",
       "        <td id=\"T_51da284a_1210_11e9_ab6d_e89eb4672020row0_col3\" class=\"data row0 col3\" >0.034</td> \n",
       "        <td id=\"T_51da284a_1210_11e9_ab6d_e89eb4672020row0_col4\" class=\"data row0 col4\" >-0.058</td> \n",
       "        <td id=\"T_51da284a_1210_11e9_ab6d_e89eb4672020row0_col5\" class=\"data row0 col5\" >-0.002</td> \n",
       "        <td id=\"T_51da284a_1210_11e9_ab6d_e89eb4672020row0_col6\" class=\"data row0 col6\" >0.013</td> \n",
       "        <td id=\"T_51da284a_1210_11e9_ab6d_e89eb4672020row0_col7\" class=\"data row0 col7\" >-0.04</td> \n",
       "    </tr>    <tr> \n",
       "        <th id=\"T_51da284a_1210_11e9_ab6d_e89eb4672020level0_row1\" class=\"row_heading level0 row1\" >Survived</th> \n",
       "        <td id=\"T_51da284a_1210_11e9_ab6d_e89eb4672020row1_col0\" class=\"data row1 col0\" >-0.005</td> \n",
       "        <td id=\"T_51da284a_1210_11e9_ab6d_e89eb4672020row1_col1\" class=\"data row1 col1\" >1</td> \n",
       "        <td id=\"T_51da284a_1210_11e9_ab6d_e89eb4672020row1_col2\" class=\"data row1 col2\" >-0.338</td> \n",
       "        <td id=\"T_51da284a_1210_11e9_ab6d_e89eb4672020row1_col3\" class=\"data row1 col3\" >-0.068</td> \n",
       "        <td id=\"T_51da284a_1210_11e9_ab6d_e89eb4672020row1_col4\" class=\"data row1 col4\" >-0.035</td> \n",
       "        <td id=\"T_51da284a_1210_11e9_ab6d_e89eb4672020row1_col5\" class=\"data row1 col5\" >0.082</td> \n",
       "        <td id=\"T_51da284a_1210_11e9_ab6d_e89eb4672020row1_col6\" class=\"data row1 col6\" >0.257</td> \n",
       "        <td id=\"T_51da284a_1210_11e9_ab6d_e89eb4672020row1_col7\" class=\"data row1 col7\" >0.017</td> \n",
       "    </tr>    <tr> \n",
       "        <th id=\"T_51da284a_1210_11e9_ab6d_e89eb4672020level0_row2\" class=\"row_heading level0 row2\" >Pclass</th> \n",
       "        <td id=\"T_51da284a_1210_11e9_ab6d_e89eb4672020row2_col0\" class=\"data row2 col0\" >-0.035</td> \n",
       "        <td id=\"T_51da284a_1210_11e9_ab6d_e89eb4672020row2_col1\" class=\"data row2 col1\" >-0.338</td> \n",
       "        <td id=\"T_51da284a_1210_11e9_ab6d_e89eb4672020row2_col2\" class=\"data row2 col2\" >1</td> \n",
       "        <td id=\"T_51da284a_1210_11e9_ab6d_e89eb4672020row2_col3\" class=\"data row2 col3\" >-0.335</td> \n",
       "        <td id=\"T_51da284a_1210_11e9_ab6d_e89eb4672020row2_col4\" class=\"data row2 col4\" >0.083</td> \n",
       "        <td id=\"T_51da284a_1210_11e9_ab6d_e89eb4672020row2_col5\" class=\"data row2 col5\" >0.018</td> \n",
       "        <td id=\"T_51da284a_1210_11e9_ab6d_e89eb4672020row2_col6\" class=\"data row2 col6\" >-0.549</td> \n",
       "        <td id=\"T_51da284a_1210_11e9_ab6d_e89eb4672020row2_col7\" class=\"data row2 col7\" >0.066</td> \n",
       "    </tr>    <tr> \n",
       "        <th id=\"T_51da284a_1210_11e9_ab6d_e89eb4672020level0_row3\" class=\"row_heading level0 row3\" >Age</th> \n",
       "        <td id=\"T_51da284a_1210_11e9_ab6d_e89eb4672020row3_col0\" class=\"data row3 col0\" >0.034</td> \n",
       "        <td id=\"T_51da284a_1210_11e9_ab6d_e89eb4672020row3_col1\" class=\"data row3 col1\" >-0.068</td> \n",
       "        <td id=\"T_51da284a_1210_11e9_ab6d_e89eb4672020row3_col2\" class=\"data row3 col2\" >-0.335</td> \n",
       "        <td id=\"T_51da284a_1210_11e9_ab6d_e89eb4672020row3_col3\" class=\"data row3 col3\" >1</td> \n",
       "        <td id=\"T_51da284a_1210_11e9_ab6d_e89eb4672020row3_col4\" class=\"data row3 col4\" >-0.233</td> \n",
       "        <td id=\"T_51da284a_1210_11e9_ab6d_e89eb4672020row3_col5\" class=\"data row3 col5\" >-0.177</td> \n",
       "        <td id=\"T_51da284a_1210_11e9_ab6d_e89eb4672020row3_col6\" class=\"data row3 col6\" >0.094</td> \n",
       "        <td id=\"T_51da284a_1210_11e9_ab6d_e89eb4672020row3_col7\" class=\"data row3 col7\" >-0.247</td> \n",
       "    </tr>    <tr> \n",
       "        <th id=\"T_51da284a_1210_11e9_ab6d_e89eb4672020level0_row4\" class=\"row_heading level0 row4\" >SibSp</th> \n",
       "        <td id=\"T_51da284a_1210_11e9_ab6d_e89eb4672020row4_col0\" class=\"data row4 col0\" >-0.058</td> \n",
       "        <td id=\"T_51da284a_1210_11e9_ab6d_e89eb4672020row4_col1\" class=\"data row4 col1\" >-0.035</td> \n",
       "        <td id=\"T_51da284a_1210_11e9_ab6d_e89eb4672020row4_col2\" class=\"data row4 col2\" >0.083</td> \n",
       "        <td id=\"T_51da284a_1210_11e9_ab6d_e89eb4672020row4_col3\" class=\"data row4 col3\" >-0.233</td> \n",
       "        <td id=\"T_51da284a_1210_11e9_ab6d_e89eb4672020row4_col4\" class=\"data row4 col4\" >1</td> \n",
       "        <td id=\"T_51da284a_1210_11e9_ab6d_e89eb4672020row4_col5\" class=\"data row4 col5\" >0.415</td> \n",
       "        <td id=\"T_51da284a_1210_11e9_ab6d_e89eb4672020row4_col6\" class=\"data row4 col6\" >0.16</td> \n",
       "        <td id=\"T_51da284a_1210_11e9_ab6d_e89eb4672020row4_col7\" class=\"data row4 col7\" >0.891</td> \n",
       "    </tr>    <tr> \n",
       "        <th id=\"T_51da284a_1210_11e9_ab6d_e89eb4672020level0_row5\" class=\"row_heading level0 row5\" >Parch</th> \n",
       "        <td id=\"T_51da284a_1210_11e9_ab6d_e89eb4672020row5_col0\" class=\"data row5 col0\" >-0.002</td> \n",
       "        <td id=\"T_51da284a_1210_11e9_ab6d_e89eb4672020row5_col1\" class=\"data row5 col1\" >0.082</td> \n",
       "        <td id=\"T_51da284a_1210_11e9_ab6d_e89eb4672020row5_col2\" class=\"data row5 col2\" >0.018</td> \n",
       "        <td id=\"T_51da284a_1210_11e9_ab6d_e89eb4672020row5_col3\" class=\"data row5 col3\" >-0.177</td> \n",
       "        <td id=\"T_51da284a_1210_11e9_ab6d_e89eb4672020row5_col4\" class=\"data row5 col4\" >0.415</td> \n",
       "        <td id=\"T_51da284a_1210_11e9_ab6d_e89eb4672020row5_col5\" class=\"data row5 col5\" >1</td> \n",
       "        <td id=\"T_51da284a_1210_11e9_ab6d_e89eb4672020row5_col6\" class=\"data row5 col6\" >0.216</td> \n",
       "        <td id=\"T_51da284a_1210_11e9_ab6d_e89eb4672020row5_col7\" class=\"data row5 col7\" >0.783</td> \n",
       "    </tr>    <tr> \n",
       "        <th id=\"T_51da284a_1210_11e9_ab6d_e89eb4672020level0_row6\" class=\"row_heading level0 row6\" >Fare</th> \n",
       "        <td id=\"T_51da284a_1210_11e9_ab6d_e89eb4672020row6_col0\" class=\"data row6 col0\" >0.013</td> \n",
       "        <td id=\"T_51da284a_1210_11e9_ab6d_e89eb4672020row6_col1\" class=\"data row6 col1\" >0.257</td> \n",
       "        <td id=\"T_51da284a_1210_11e9_ab6d_e89eb4672020row6_col2\" class=\"data row6 col2\" >-0.549</td> \n",
       "        <td id=\"T_51da284a_1210_11e9_ab6d_e89eb4672020row6_col3\" class=\"data row6 col3\" >0.094</td> \n",
       "        <td id=\"T_51da284a_1210_11e9_ab6d_e89eb4672020row6_col4\" class=\"data row6 col4\" >0.16</td> \n",
       "        <td id=\"T_51da284a_1210_11e9_ab6d_e89eb4672020row6_col5\" class=\"data row6 col5\" >0.216</td> \n",
       "        <td id=\"T_51da284a_1210_11e9_ab6d_e89eb4672020row6_col6\" class=\"data row6 col6\" >1</td> \n",
       "        <td id=\"T_51da284a_1210_11e9_ab6d_e89eb4672020row6_col7\" class=\"data row6 col7\" >0.217</td> \n",
       "    </tr>    <tr> \n",
       "        <th id=\"T_51da284a_1210_11e9_ab6d_e89eb4672020level0_row7\" class=\"row_heading level0 row7\" >QtdeFamilia</th> \n",
       "        <td id=\"T_51da284a_1210_11e9_ab6d_e89eb4672020row7_col0\" class=\"data row7 col0\" >-0.04</td> \n",
       "        <td id=\"T_51da284a_1210_11e9_ab6d_e89eb4672020row7_col1\" class=\"data row7 col1\" >0.017</td> \n",
       "        <td id=\"T_51da284a_1210_11e9_ab6d_e89eb4672020row7_col2\" class=\"data row7 col2\" >0.066</td> \n",
       "        <td id=\"T_51da284a_1210_11e9_ab6d_e89eb4672020row7_col3\" class=\"data row7 col3\" >-0.247</td> \n",
       "        <td id=\"T_51da284a_1210_11e9_ab6d_e89eb4672020row7_col4\" class=\"data row7 col4\" >0.891</td> \n",
       "        <td id=\"T_51da284a_1210_11e9_ab6d_e89eb4672020row7_col5\" class=\"data row7 col5\" >0.783</td> \n",
       "        <td id=\"T_51da284a_1210_11e9_ab6d_e89eb4672020row7_col6\" class=\"data row7 col6\" >0.217</td> \n",
       "        <td id=\"T_51da284a_1210_11e9_ab6d_e89eb4672020row7_col7\" class=\"data row7 col7\" >1</td> \n",
       "    </tr></tbody> \n",
       "</table> "
      ],
      "text/plain": [
       "<pandas.io.formats.style.Styler at 0x259884da908>"
      ]
     },
     "execution_count": 88,
     "metadata": {},
     "output_type": "execute_result"
    }
   ],
   "source": [
    "corr=round(df.corr(),3)\n",
    "corr.style.background_gradient()"
   ]
  },
  {
   "cell_type": "markdown",
   "metadata": {},
   "source": [
    "# 2.8.\tExploração "
   ]
  },
  {
   "cell_type": "code",
   "execution_count": 96,
   "metadata": {},
   "outputs": [
    {
     "data": {
      "image/png": "[encoded data removed]",
      "text/plain": [
       "<Figure size 432x288 with 1 Axes>"
      ]
     },
     "metadata": {
      "needs_background": "light"
     },
     "output_type": "display_data"
    }
   ],
   "source": [
    "ax=sns.countplot(x=\"Pclass\", hue=\"Survived\",data=df)\n",
    "ax.set_ylabel(\"Numero de Pessoas\")\n",
    "ax.set_title(\"PClass x Sobreviventes x Numero de Pessoas\")\n",
    "plt.legend([\"Nao Sobreviveu\",\"Sobreviveu\"])\n",
    "plt.show()\n",
    "\n"
   ]
  },
  {
   "cell_type": "code",
   "execution_count": 112,
   "metadata": {},
   "outputs": [
    {
     "data": {
      "text/plain": [
       "<matplotlib.legend.Legend at 0x1c8be0ddeb8>"
      ]
     },
     "execution_count": 112,
     "metadata": {},
     "output_type": "execute_result"
    },
    {
     "data": {
      "image/png": "[encoded data removed]",
      "text/plain": [
       "<Figure size 432x288 with 1 Axes>"
      ]
     },
     "metadata": {
      "needs_background": "light"
     },
     "output_type": "display_data"
    }
   ],
   "source": [
    "ax=sns.countplot(x=\"Sex\", hue=\"Survived\",data=df)\n",
    "ax.set_ylabel(\"Numero de Pessoas\")\n",
    "ax.set_title(\"Genero x Sobreviventes x Numero de Pessoas\")\n",
    "plt.legend([\"Nao Sobreviveu\",\"Sobreviveu\"])\n",
    "\n"
   ]
  },
  {
   "cell_type": "code",
   "execution_count": 113,
   "metadata": {},
   "outputs": [
    {
     "data": {
      "text/plain": [
       "<matplotlib.legend.Legend at 0x1c8be0fe048>"
      ]
     },
     "execution_count": 113,
     "metadata": {},
     "output_type": "execute_result"
    },
    {
     "data": {
      "image/png": "[encoded data removed]",
      "text/plain": [
       "<Figure size 432x288 with 1 Axes>"
      ]
     },
     "metadata": {
      "needs_background": "light"
     },
     "output_type": "display_data"
    }
   ],
   "source": [
    "ax=sns.countplot(x=\"FaixaEtaria\", hue=\"Survived\",data=df)\n",
    "ax.set_ylabel(\"Numero de Pessoas\")\n",
    "ax.set_title(\"FaixaEtaria x Sobreviventes x Numero de Pessoas\")\n",
    "plt.legend([\"Nao Sobreviveu\",\"Sobreviveu\"])\n"
   ]
  },
  {
   "cell_type": "code",
   "execution_count": 115,
   "metadata": {},
   "outputs": [
    {
     "data": {
      "text/plain": [
       "<matplotlib.legend.Legend at 0x1c8bcb2a0b8>"
      ]
     },
     "execution_count": 115,
     "metadata": {},
     "output_type": "execute_result"
    },
    {
     "data": {
      "image/png": "[encoded data removed]",
      "text/plain": [
       "<Figure size 432x288 with 1 Axes>"
      ]
     },
     "metadata": {
      "needs_background": "light"
     },
     "output_type": "display_data"
    }
   ],
   "source": [
    "ax=sns.countplot(x=\"QtdeFamilia\", hue=\"Survived\",data=df)\n",
    "ax.set_ylabel(\"Numero de Pessoas\")\n",
    "ax.set_title(\"Pessoas por familia x Sobreviventes x Numero de Pessoas\")\n",
    "plt.legend([\"Nao Sobreviveu\",\"Sobreviveu\"])\n"
   ]
  },
  {
   "cell_type": "code",
   "execution_count": 119,
   "metadata": {},
   "outputs": [
    {
     "data": {
      "text/plain": [
       "[Text(0,0.5,'Numero de pessoas')]"
      ]
     },
     "execution_count": 119,
     "metadata": {},
     "output_type": "execute_result"
    },
    {
     "data": {
      "image/png": "[encoded data removed]",
      "text/plain": [
       "<Figure size 432x288 with 1 Axes>"
      ]
     },
     "metadata": {
      "needs_background": "light"
     },
     "output_type": "display_data"
    }
   ],
   "source": [
    "data=np.unique(df.Sex,return_counts=True)\n",
    "labs=[\"Feminino\", \"Masculino\"]\n",
    "\n",
    "plt=sns.barplot(x=labs,y=data[1])\n",
    "plt.set(xlabel=\"Genero\")\n",
    "plt.set(ylabel=\"Numero de pessoas\")"
   ]
  },
  {
   "cell_type": "code",
   "execution_count": 14,
   "metadata": {},
   "outputs": [
    {
     "data": {
      "text/plain": [
       "(array([1, 2, 3], dtype=int64), array([216, 184, 491], dtype=int64))"
      ]
     },
     "execution_count": 14,
     "metadata": {},
     "output_type": "execute_result"
    }
   ],
   "source": [
    "dataC=np.unique(df.Pclass,return_counts=True)\n",
    "dataC\n"
   ]
  },
  {
   "cell_type": "code",
   "execution_count": 29,
   "metadata": {},
   "outputs": [
    {
     "data": {
      "image/png": "[encoded data removed]",
      "text/plain": [
       "<Figure size 432x288 with 1 Axes>"
      ]
     },
     "metadata": {},
     "output_type": "display_data"
    }
   ],
   "source": [
    "fig, ax = plt.subplots(subplot_kw=dict(aspect=\"equal\"))\n",
    "\n",
    "labels=[\"1 Classe\",\"2 Classe\", \"3 Classe\"]\n",
    "\n",
    "ax.legend(wedges, labels,\n",
    "          title=\"Ingredients\",\n",
    "          loc=\"center left\",\n",
    "          bbox_to_anchor=(1, 0, 0.5, 1))\n",
    "\n",
    "plt.setp(autotexts, size=8, weight=\"bold\")\n",
    "\n",
    "ax.set_title(\"Numero de Pessoas x Classe\")\n",
    "\n",
    "plt.pie(x=dataC[1],\n",
    "       labels=dataC[0],\n",
    "       shadow=True,\n",
    "       startangle=90,\n",
    "       radius=0.9)\n",
    "plt.show()"
   ]
  },
  {
   "cell_type": "code",
   "execution_count": 39,
   "metadata": {},
   "outputs": [],
   "source": [
    "def box(x,y,hue,data_frame):\n",
    "    \"\"\"\n",
    "    Função que que retorna um grafico baseado nos dados informados.\n",
    "      Parametros:\n",
    "          data: Data frame base para construcao do grafico.\n",
    "          x: eixo X do grafico, considerado o valor independente.\n",
    "          y: eixo y do grafico, considerado o valor dependente\n",
    "      Retorna:\n",
    "          Grafico com a possibilidade de acrescentar etiquetas e\n",
    "          titulos\n",
    "    \"\"\"\n",
    "    ax=sns.boxplot(x=x, y=y, hue=hue, data=data_frame)\n",
    "    return ax\n",
    "    \n",
    "    "
   ]
  },
  {
   "cell_type": "code",
   "execution_count": 40,
   "metadata": {},
   "outputs": [
    {
     "data": {
      "text/plain": [
       "Text(0.5,1,'Idade x Faixa Etaria')"
      ]
     },
     "execution_count": 40,
     "metadata": {},
     "output_type": "execute_result"
    },
    {
     "data": {
      "image/png": "[encoded data removed]",
      "text/plain": [
       "<Figure size 432x288 with 1 Axes>"
      ]
     },
     "metadata": {},
     "output_type": "display_data"
    }
   ],
   "source": [
    "sns.set()\n",
    "dependent = \"FaixaEtaria\"\n",
    "independent = \"Age\"\n",
    "box(independent,\"FaixaEtaria\",dependent,df)\n",
    "ax.set_ylabel(\"Faixa Etaria\")\n",
    "ax.set_xlabel(\"Idade\")\n",
    "ax.set_title(\"Idade x Faixa Etaria\")"
   ]
  },
  {
   "cell_type": "code",
   "execution_count": null,
   "metadata": {},
   "outputs": [],
   "source": [
    "   "
   ]
  },
  {
   "cell_type": "code",
   "execution_count": null,
   "metadata": {},
   "outputs": [],
   "source": []
  },
  {
   "cell_type": "code",
   "execution_count": null,
   "metadata": {},
   "outputs": [],
   "source": []
  },
  {
   "cell_type": "code",
   "execution_count": null,
   "metadata": {},
   "outputs": [],
   "source": []
  },
  {
   "cell_type": "code",
   "execution_count": null,
   "metadata": {},
   "outputs": [],
   "source": []
  },
  {
   "cell_type": "code",
   "execution_count": null,
   "metadata": {},
   "outputs": [],
   "source": []
  }
 ],
 "metadata": {
  "kernelspec": {
   "display_name": "Python 3",
   "language": "python",
   "name": "python3"
  },
  "language_info": {
   "codemirror_mode": {
    "name": "ipython",
    "version": 3
   },
   "file_extension": ".py",
   "mimetype": "text/x-python",
   "name": "python",
   "nbconvert_exporter": "python",
   "pygments_lexer": "ipython3",
   "version": "3.7.0"
  }
 },
 "nbformat": 4,
 "nbformat_minor": 2
}
